{
 "cells": [
  {
   "cell_type": "code",
   "execution_count": 9,
   "id": "14d85fa4",
   "metadata": {},
   "outputs": [],
   "source": [
    "import gym\n",
    "import numpy as np\n",
    "import time, pickle, os"
   ]
  },
  {
   "cell_type": "code",
   "execution_count": 10,
   "id": "a04c91ae",
   "metadata": {},
   "outputs": [],
   "source": [
    "env = gym.make('FrozenLake-v1')\n",
    "\n",
    "epsilon = 0.9\n",
    "total_episodes = 10000\n",
    "max_steps = 100\n",
    "\n",
    "lr_rate = 0.81\n",
    "gamma = 0.96\n",
    "np.random.seed(0) \n",
    "Q = np.zeros((env.observation_space.n, env.action_space.n))"
   ]
  },
  {
   "cell_type": "code",
   "execution_count": null,
   "id": "0374a6af",
   "metadata": {},
   "outputs": [],
   "source": []
  },
  {
   "cell_type": "code",
   "execution_count": 3,
   "id": "fa7ca90a",
   "metadata": {},
   "outputs": [
    {
     "name": "stderr",
     "output_type": "stream",
     "text": [
      "c:\\Python310\\lib\\site-packages\\gym\\envs\\toy_text\\frozen_lake.py:271: UserWarning: \u001b[33mWARN: You are calling render method without specifying any render mode. You can specify the render_mode at initialization, e.g. gym(\"FrozenLake-v1\", render_mode=\"rgb_array\")\u001b[0m\n",
      "  logger.warn(\n"
     ]
    },
    {
     "name": "stdout",
     "output_type": "stream",
     "text": [
      "[[6.89382234e-01 6.95948954e-01 6.69487331e-01 6.68425889e-01]\n",
      " [5.42273760e-01 1.76363725e-02 4.78928989e-01 6.47338376e-01]\n",
      " [6.27344830e-01 2.04929739e-01 6.50261965e-01 5.19792256e-01]\n",
      " [1.02882524e-01 1.10321522e-01 2.10909228e-02 5.40551832e-01]\n",
      " [7.24886772e-01 5.89606221e-01 7.10355329e-01 5.83137896e-01]\n",
      " [0.00000000e+00 0.00000000e+00 0.00000000e+00 0.00000000e+00]\n",
      " [7.18830930e-01 2.45026126e-02 3.31295037e-03 5.08194657e-01]\n",
      " [0.00000000e+00 0.00000000e+00 0.00000000e+00 0.00000000e+00]\n",
      " [5.91017914e-01 1.41647847e-01 7.12627947e-01 7.48488400e-01]\n",
      " [1.48054036e-01 7.91120281e-01 8.28175333e-01 7.25974949e-01]\n",
      " [9.22599912e-01 3.45908133e-02 4.86406299e-01 8.60648576e-04]\n",
      " [0.00000000e+00 0.00000000e+00 0.00000000e+00 0.00000000e+00]\n",
      " [0.00000000e+00 0.00000000e+00 0.00000000e+00 0.00000000e+00]\n",
      " [7.99877292e-01 7.91230072e-01 8.20196687e-01 8.03252281e-01]\n",
      " [9.54230886e-01 9.73142225e-01 9.35682217e-01 9.08143681e-01]\n",
      " [0.00000000e+00 0.00000000e+00 0.00000000e+00 0.00000000e+00]]\n"
     ]
    }
   ],
   "source": [
    "def choose_action(state):\n",
    "    action=0\n",
    "    if np.random.uniform(0, 1) < epsilon:\n",
    "        action = env.action_space.sample()\n",
    "    else:\n",
    "        action = np.argmax(Q[state])\n",
    "    return action\n",
    "\n",
    "def learn(state, state2, reward, action):\n",
    "    predict = Q[state, action]\n",
    "    target = reward + gamma * np.max(Q[state2, :])\n",
    "    Q[state, action] = Q[state, action] + lr_rate * (target - predict)\n",
    "\n",
    "# Start\n",
    "np.random.seed(0)\n",
    "for episode in range(total_episodes):\n",
    "    state = env.reset()\n",
    "    state = state[0]\n",
    "    t = 0\n",
    "    \n",
    "    while t < max_steps:\n",
    "        env.render()\n",
    "        action = choose_action(state)  \n",
    "        state2,reward,done,_,_ = env.step(action)  \n",
    "        learn(state, state2, reward, action)\n",
    "\n",
    "        state = state2\n",
    "\n",
    "        t += 1\n",
    "       \n",
    "        if done:\n",
    "            break\n",
    "\n",
    "        # time.sleep(0.1)\n",
    "\n",
    "print(Q)\n",
    "\n",
    "with open(\"frozenLake_qTable.pkl\", 'wb') as f:\n",
    "    pickle.dump(Q, f)"
   ]
  },
  {
   "cell_type": "code",
   "execution_count": null,
   "id": "496fc40f",
   "metadata": {},
   "outputs": [],
   "source": []
  },
  {
   "cell_type": "code",
   "execution_count": 4,
   "id": "a74f6512",
   "metadata": {},
   "outputs": [],
   "source": [
    "Q_Normal = Q.copy()"
   ]
  },
  {
   "cell_type": "code",
   "execution_count": 5,
   "id": "0973416f",
   "metadata": {},
   "outputs": [],
   "source": [
    "import pandas as pd\n",
    "class Qlearning():\n",
    "    \n",
    "    def __init__(self, actions, learning_rate=0.01, reward_decay=1, e_greedy=0.1):\n",
    "        self.actions = actions  # a list\n",
    "        self.lr = learning_rate\n",
    "        self.gamma = reward_decay\n",
    "        self.epsilon = e_greedy\n",
    "        self.q_table = np.zeros((env.observation_space.n, env.action_space.n))\n",
    "    \n",
    "    def choose_action(self,observation):\n",
    "        # self.check_state_exist(observation)\n",
    "        \n",
    "        if np.random.uniform(0,1) < 1 - self.epsilon:\n",
    "            # state_action = self.q_table[observation,:]\n",
    "            # action = np.random.choice(state_action[state_action == np.max(state_action)])\n",
    "            action = np.argmax(self.q_table[observation])\n",
    "        else:\n",
    "            action = env.action_space.sample()       \n",
    "        return action\n",
    "\n",
    "    def learn(self,observationNow,action,rewards,nextState):\n",
    "        # self.check_state_exist(nextState)\n",
    "        \n",
    "        # print(self.q_table)\n",
    "        # print(observationNow.id)\n",
    "        # print(observationNow,action)\n",
    "        q_predict = self.q_table[observationNow,int(action)]\n",
    "        q_target = rewards + self.gamma * np.max(self.q_table[nextState,:])\n",
    "        \n",
    "        self.q_table[observationNow,int(action)] += self.lr * (q_target - q_predict)\n",
    "    \n",
    "    def check_state_exist(self,state):\n",
    "        \n",
    "        if state not in self.q_table.index:\n",
    "            self.q_table =  self.q_table.append(\n",
    "                pd.Series(\n",
    "                    [0]*len(self.actions),\n",
    "                    index = self.q_table.columns,\n",
    "                    name = state\n",
    "                )\n",
    "            )"
   ]
  },
  {
   "cell_type": "code",
   "execution_count": 6,
   "id": "3a9bafd0",
   "metadata": {},
   "outputs": [],
   "source": [
    "RL = Qlearning(actions=list(range(4)),learning_rate=lr_rate,reward_decay=gamma)\n",
    "Q = np.zeros((env.observation_space.n, env.action_space.n))"
   ]
  },
  {
   "cell_type": "code",
   "execution_count": 7,
   "id": "8ab856b0",
   "metadata": {},
   "outputs": [
    {
     "name": "stdout",
     "output_type": "stream",
     "text": [
      "[[0. 0. 0. 0.]\n",
      " [0. 0. 0. 0.]\n",
      " [0. 0. 0. 0.]\n",
      " [0. 0. 0. 0.]\n",
      " [0. 0. 0. 0.]\n",
      " [0. 0. 0. 0.]\n",
      " [0. 0. 0. 0.]\n",
      " [0. 0. 0. 0.]\n",
      " [0. 0. 0. 0.]\n",
      " [0. 0. 0. 0.]\n",
      " [0. 0. 0. 0.]\n",
      " [0. 0. 0. 0.]\n",
      " [0. 0. 0. 0.]\n",
      " [0. 0. 0. 0.]\n",
      " [0. 0. 0. 0.]\n",
      " [0. 0. 0. 0.]]\n"
     ]
    }
   ],
   "source": [
    "np.random.seed(0)\n",
    "for episode in range(total_episodes):\n",
    "    state = env.reset()\n",
    "    state = state[0]\n",
    "    t = 0\n",
    "\n",
    "    while t < max_steps:\n",
    "        env.render()\n",
    "\n",
    "        action = choose_action(state)\n",
    "        state2,reward,done,_,_ = env.step(action)\n",
    "        # learn(state, state2, reward, action)\n",
    "        RL.learn(state,action,reward,state2)\n",
    "\n",
    "        state = state2\n",
    "\n",
    "        t += 1\n",
    "       \n",
    "        if done:\n",
    "            break\n",
    "\n",
    "        # time.sleep(0.1)\n",
    "\n",
    "print(Q)"
   ]
  },
  {
   "cell_type": "code",
   "execution_count": 8,
   "id": "effe9e7b",
   "metadata": {},
   "outputs": [
    {
     "data": {
      "text/plain": [
       "array([[0.67428556, 0.68877163, 0.68188873, 0.68352576],\n",
       "       [0.73207457, 0.76053205, 0.7392512 , 0.77527656],\n",
       "       [0.79444207, 0.72930745, 0.80732302, 0.74252013],\n",
       "       [0.58301923, 0.72266176, 0.02442344, 0.68693882],\n",
       "       [0.71952087, 0.67934634, 0.1257229 , 0.67465131],\n",
       "       [0.        , 0.        , 0.        , 0.        ],\n",
       "       [0.86835786, 0.00486486, 0.84713083, 0.66526705],\n",
       "       [0.        , 0.        , 0.        , 0.        ],\n",
       "       [0.57863469, 0.00548403, 0.75377524, 0.71238434],\n",
       "       [0.79710694, 0.83901451, 0.82723873, 0.7475503 ],\n",
       "       [0.81504071, 0.81765892, 0.15709979, 0.11339934],\n",
       "       [0.        , 0.        , 0.        , 0.        ],\n",
       "       [0.        , 0.        , 0.        , 0.        ],\n",
       "       [0.13324377, 0.16872018, 0.86092903, 0.65535539],\n",
       "       [0.87992346, 0.95584234, 0.96683884, 0.87642294],\n",
       "       [0.        , 0.        , 0.        , 0.        ]])"
      ]
     },
     "execution_count": 8,
     "metadata": {},
     "output_type": "execute_result"
    }
   ],
   "source": [
    "RL.q_table"
   ]
  },
  {
   "cell_type": "code",
   "execution_count": null,
   "id": "580c36b9",
   "metadata": {},
   "outputs": [],
   "source": [
    "if 1 in RL.q_table.index:\n",
    "    print(RL.q_table.loc[1])"
   ]
  },
  {
   "cell_type": "code",
   "execution_count": null,
   "id": "6dbf0354",
   "metadata": {},
   "outputs": [],
   "source": []
  }
 ],
 "metadata": {
  "kernelspec": {
   "display_name": "Python 3 (ipykernel)",
   "language": "python",
   "name": "python3"
  },
  "language_info": {
   "codemirror_mode": {
    "name": "ipython",
    "version": 3
   },
   "file_extension": ".py",
   "mimetype": "text/x-python",
   "name": "python",
   "nbconvert_exporter": "python",
   "pygments_lexer": "ipython3",
   "version": "3.10.4"
  }
 },
 "nbformat": 4,
 "nbformat_minor": 5
}
